{
 "cells": [
  {
   "attachments": {},
   "cell_type": "markdown",
   "id": "e1ff95f2-5eb1-4ce5-be5e-ff0e75476eb3",
   "metadata": {},
   "source": [
    "## **Case Background:** \n",
    "Blinkit is a quick-commerce grocery delivery service in India that prioritizes speed and convenience, delivering orders, often within 10-20 minutes, from a network of local stores. Its revenue in 2024 was $270 Million.  \n",
    "\n",
    "The objective of this analysis is to conduct a comprehensive analysis of Blinkit's sales performance, customer satisfaction, and inventory distribution to identify key insights and opportunities for optimization using various KPIs and visualizations in Power BI.\n",
    "\n",
    "## **Data Analysis requirements:** \n",
    "1. Total Sales: The overall revenue generated from all items sold.\n",
    "2. Average Sales: The average revenue per sale.\n",
    "3. Number of Items: The total count of different items sold.\n",
    "4. Average Rating: The average customer rating for items sold. \n",
    "\n",
    "## **Visualisation using the guiding points:** \n",
    "1. Total Sales by Fat Content:\n",
    "\tObjective: Analyze the impact of fat content on total sales.\n",
    "\tAdditional KPI Metrics: Assess how other KPIs (Average Sales, Number of Items, Average Rating) vary with fat content.\n",
    "\t\n",
    "2. Total Sales by Item Type:\n",
    "\tObjective: Identify the performance of different item types in terms of total sales.\n",
    "\tAdditional KPI Metrics: Assess how other KPIs (Average Sales, Number of Items, Average Rating) vary with fat content.\n",
    "\t\n",
    "3. Fat Content by Outlet for Total Sales:\n",
    "\tObjective: Compare total sales across different outlets segmented by fat content.\n",
    "\tAdditional KPI Metrics: Assess how other KPIs (Average Sales, Number of Items, Average Rating) vary with fat content.\n",
    "\t\n",
    "4. Number of Outlet Establishments added by year:\n",
    "\tObjective: Analyse the increase in outlets added each year.\n",
    "\t\n",
    "5. Sales by Outlet Size:\n",
    "\tObjective: Analyze the correlation between outlet size and total sales.\n",
    "\t\n",
    "6. Sales by Outlet Location:\n",
    "\tObjective: Assess the geographic distribution of sales across different locations.\n",
    "\t\n",
    "\n",
    "## **Conclusion**\n",
    "Key KPIs (from Dashboard)\n",
    "- Total Sales: 1.20M\n",
    "- Average Sales: 140.99\n",
    "- Number of Items: 9K\n",
    "- Average Rating: 3.92\n",
    "\n",
    "1. Total Sales by Fat Content\n",
    "    Observations:\n",
    "      - Regular Fat: ₹776K (64.6% of total sales)\n",
    "      - Low Fat: ₹425K (35.4% of total sales)\n",
    "    Insight:\n",
    "      - Regular fat products contribute more to total sales.\n",
    "      - There is an opportunity to promote low-fat products among health-conscious customers to increase their share.\n",
    "\n",
    "2. Total Sales by Item Type\n",
    "    Observations:\n",
    "      - Top Performing Categories:\n",
    "        - Fruits and Vegetables: ₹0.18M\n",
    "        - Snack Foods: ₹0.18M\n",
    "        - Household Items: ₹0.14M\n",
    "        - Frozen Food: ₹0.12M\n",
    "        - Dairy: ₹0.10M\n",
    "      - Low Performing Categories:\n",
    "        - Seafood: ₹0.01M\n",
    "        - Breakfast, Starchy Foods, Others: Each under ₹0.02M\n",
    "    Insight:\n",
    "      - High demand for fresh and convenient food categories.\n",
    "      - Opportunity to enhance visibility and marketing for niche categories like seafood and breakfast items.\n",
    "\n",
    "3. Fat Content by Outlet for Total Sales\n",
    "    Observations:\n",
    "      - Tier 3:\n",
    "        - Regular: ₹0.31M\n",
    "        - Low Fat: ₹0.17M\n",
    "      - Tier 2:\n",
    "        - Regular: ₹0.25M\n",
    "        - Low Fat: ₹0.14M\n",
    "      - Tier 1:\n",
    "        -  Regular: ₹0.22M\n",
    "        -  Low Fat: ₹0.12M    \n",
    "    Insight:\n",
    "      - Tier 3 outlets outperform others in both fat categories.\n",
    "      - Suggests a wider customer base or higher order frequency in smaller cities/towns.\n",
    "        \n",
    "\n",
    "4. Number of Outlet Establishments Added by Year\n",
    "    Observations:\n",
    "      - 2000s: High growth (peak at 1463 outlets)\n",
    "      - 2010: Sharp decline to 555 outlets\n",
    "      - 2012 onward: Stabilized between 926–930 outlets per year\n",
    "      - 2021: 928 outlets\n",
    "    Insight:\n",
    "      - Sharp decline around 2010 could indicate restructuring or market challenges.\n",
    "      - Stable outlet growth post-2012 reflects a mature operational model. cities/towns.\n",
    "\n",
    "5. Sales by Outlet Size\n",
    "    Observations:\n",
    "      - High Size: ₹507.9K (42.27%)\n",
    "      - Small Size: ₹444.79K (37.0%)\n",
    "      - Medium Size: ₹248.99K (20.72%)\n",
    "    Insight:\n",
    "      - High-size outlets generate the most revenue.\n",
    "      - Medium outlets underperform—opportunity for operational optimization. cities/towns.\n",
    "\n",
    "\n",
    "6.  Sales by Outlet Location\n",
    "     Observations:\n",
    "      - Tier 3: ₹0.47M\n",
    "      - Tier 2: ₹0.39M\n",
    "      - Tier 1: ₹0.34M\n",
    "     Insight:\n",
    "      - Tier 3 regions contribute the highest to sales.\n",
    "      - Indicates strong demand in non-metro areas—suggest focusing expansion and logistics in these markets.cities/towns.\n",
    "\n",
    "7.  KPI Monitoring by Outlet Type\n",
    "     Observations:\n",
    "       - Supermarket Type 1:\n",
    "         - Total Sales: ₹787.55K\n",
    "         - Number of Items: 5577\n",
    "         - Average Sales: ₹141\n",
    "         - Average Rating: 3.92\n",
    "         - Item Visibility: 338.65\n",
    "       - Grocery Store:\n",
    "         -  Total Sales: ₹151.94K\n",
    "         -  Number of Items: 1083\n",
    "         -  Average Sales: ₹140\n",
    "         -  Average Rating: 3.93\n",
    "         -  Item Visibility: 113.57\n",
    "       - Supermarket Type 2:\n",
    "         - Total Sales: ₹131.48K\n",
    "         - Number of Items: 928\n",
    "         - Average Sales: ₹139\n",
    "         - Average Rating: 3.93\n",
    "         - Item Visibility: 56.62\n",
    "       - Supermarket Type 3:\n",
    "         - Total Sales: ₹130.71K\n",
    "         - Number of Items: 935\n",
    "         - Average Sales: ₹140\n",
    "         - Average Rating: 3.91\n",
    "         - Item Visibility: 54.80    \n",
    "\n",
    "    Insight:\n",
    "      - Supermarket Type 1 leads across all KPIs including visibility.\n",
    "      - Type 2 and Type 3 outlets have low item visibility—need to improve product discovery through better UI/UX and promotions.\n",
    "\n",
    "## **Strategic Recommendations**\n",
    "- Improve visibility and promotional strategies for underperforming categories like seafood and breakfast items.\n",
    "\n",
    "- Promote low-fat options in Tier 1 and Tier 2 outlets to cater to evolving health trends.\n",
    "\n",
    "- Prioritize growth in Tier 3 cities and expand high-performing large-format outlets.\n",
    "\n",
    "- Enhance item visibility for Supermarket Type 2 and 3 through improved categorization and search features.\n",
    "\n",
    "- Investigate the 2010 outlet drop to inform risk management and strategic decisions in future expansions."
   ]
  },
  {
   "cell_type": "markdown",
   "id": "3db818bc-cb72-457e-9971-dcc4c0c0ee1a",
   "metadata": {},
   "source": [
    "## Import Libraries"
   ]
  },
  {
   "cell_type": "code",
   "execution_count": 97,
   "id": "699c153f-fe8e-42cb-92e0-a763dbb10836",
   "metadata": {},
   "outputs": [],
   "source": [
    "import pandas as pd\n",
    "import numpy as np\n",
    "import matplotlib.pyplot as plt\n",
    "import seaborn as sns"
   ]
  },
  {
   "cell_type": "markdown",
   "id": "e98af418-960e-47ba-8e02-b9d3d0d70fa2",
   "metadata": {},
   "source": [
    "## Import Dataset"
   ]
  },
  {
   "cell_type": "code",
   "execution_count": 99,
   "id": "c03b340f-c7ef-489c-b273-4d6cfc81d94a",
   "metadata": {},
   "outputs": [
    {
     "name": "stdout",
     "output_type": "stream",
     "text": [
      "<class 'pandas.core.frame.DataFrame'>\n",
      "RangeIndex: 8523 entries, 0 to 8522\n",
      "Data columns (total 12 columns):\n",
      " #   Column                     Non-Null Count  Dtype  \n",
      "---  ------                     --------------  -----  \n",
      " 0   Item Fat Content           8523 non-null   object \n",
      " 1   Item Identifier            8523 non-null   object \n",
      " 2   Item Type                  8523 non-null   object \n",
      " 3   Outlet Establishment Year  8523 non-null   int64  \n",
      " 4   Outlet Identifier          8523 non-null   object \n",
      " 5   Outlet Location Type       8523 non-null   object \n",
      " 6   Outlet Size                8523 non-null   object \n",
      " 7   Outlet Type                8523 non-null   object \n",
      " 8   Item Visibility            8523 non-null   float64\n",
      " 9   Item Weight                7060 non-null   float64\n",
      " 10  Sales                      8523 non-null   float64\n",
      " 11  Rating                     8523 non-null   float64\n",
      "dtypes: float64(4), int64(1), object(7)\n",
      "memory usage: 799.2+ KB\n"
     ]
    }
   ],
   "source": [
    "df = pd.read_csv(\"C:/Users/hvsra/Desktop/Data_Analytics/Blinkit_Sales/blinkit_data.csv\")\n",
    "df.info()"
   ]
  },
  {
   "cell_type": "code",
   "execution_count": 100,
   "id": "ea1da6ed-306e-48f3-8d3b-1d057864c749",
   "metadata": {},
   "outputs": [
    {
     "data": {
      "text/html": [
       "<div>\n",
       "<style scoped>\n",
       "    .dataframe tbody tr th:only-of-type {\n",
       "        vertical-align: middle;\n",
       "    }\n",
       "\n",
       "    .dataframe tbody tr th {\n",
       "        vertical-align: top;\n",
       "    }\n",
       "\n",
       "    .dataframe thead th {\n",
       "        text-align: right;\n",
       "    }\n",
       "</style>\n",
       "<table border=\"1\" class=\"dataframe\">\n",
       "  <thead>\n",
       "    <tr style=\"text-align: right;\">\n",
       "      <th></th>\n",
       "      <th>Item Fat Content</th>\n",
       "      <th>Item Identifier</th>\n",
       "      <th>Item Type</th>\n",
       "      <th>Outlet Establishment Year</th>\n",
       "      <th>Outlet Identifier</th>\n",
       "      <th>Outlet Location Type</th>\n",
       "      <th>Outlet Size</th>\n",
       "      <th>Outlet Type</th>\n",
       "      <th>Item Visibility</th>\n",
       "      <th>Item Weight</th>\n",
       "      <th>Sales</th>\n",
       "      <th>Rating</th>\n",
       "    </tr>\n",
       "  </thead>\n",
       "  <tbody>\n",
       "    <tr>\n",
       "      <th>0</th>\n",
       "      <td>Regular</td>\n",
       "      <td>FDX32</td>\n",
       "      <td>Fruits and Vegetables</td>\n",
       "      <td>2012</td>\n",
       "      <td>OUT049</td>\n",
       "      <td>Tier 1</td>\n",
       "      <td>Medium</td>\n",
       "      <td>Supermarket Type1</td>\n",
       "      <td>0.100014</td>\n",
       "      <td>15.10</td>\n",
       "      <td>145.4786</td>\n",
       "      <td>5.0</td>\n",
       "    </tr>\n",
       "    <tr>\n",
       "      <th>1</th>\n",
       "      <td>Low Fat</td>\n",
       "      <td>NCB42</td>\n",
       "      <td>Health and Hygiene</td>\n",
       "      <td>2022</td>\n",
       "      <td>OUT018</td>\n",
       "      <td>Tier 3</td>\n",
       "      <td>Medium</td>\n",
       "      <td>Supermarket Type2</td>\n",
       "      <td>0.008596</td>\n",
       "      <td>11.80</td>\n",
       "      <td>115.3492</td>\n",
       "      <td>5.0</td>\n",
       "    </tr>\n",
       "    <tr>\n",
       "      <th>2</th>\n",
       "      <td>Regular</td>\n",
       "      <td>FDR28</td>\n",
       "      <td>Frozen Foods</td>\n",
       "      <td>2010</td>\n",
       "      <td>OUT046</td>\n",
       "      <td>Tier 1</td>\n",
       "      <td>Small</td>\n",
       "      <td>Supermarket Type1</td>\n",
       "      <td>0.025896</td>\n",
       "      <td>13.85</td>\n",
       "      <td>165.0210</td>\n",
       "      <td>5.0</td>\n",
       "    </tr>\n",
       "    <tr>\n",
       "      <th>3</th>\n",
       "      <td>Regular</td>\n",
       "      <td>FDL50</td>\n",
       "      <td>Canned</td>\n",
       "      <td>2000</td>\n",
       "      <td>OUT013</td>\n",
       "      <td>Tier 3</td>\n",
       "      <td>High</td>\n",
       "      <td>Supermarket Type1</td>\n",
       "      <td>0.042278</td>\n",
       "      <td>12.15</td>\n",
       "      <td>126.5046</td>\n",
       "      <td>5.0</td>\n",
       "    </tr>\n",
       "    <tr>\n",
       "      <th>4</th>\n",
       "      <td>Low Fat</td>\n",
       "      <td>DRI25</td>\n",
       "      <td>Soft Drinks</td>\n",
       "      <td>2015</td>\n",
       "      <td>OUT045</td>\n",
       "      <td>Tier 2</td>\n",
       "      <td>Small</td>\n",
       "      <td>Supermarket Type1</td>\n",
       "      <td>0.033970</td>\n",
       "      <td>19.60</td>\n",
       "      <td>55.1614</td>\n",
       "      <td>5.0</td>\n",
       "    </tr>\n",
       "  </tbody>\n",
       "</table>\n",
       "</div>"
      ],
      "text/plain": [
       "  Item Fat Content Item Identifier              Item Type  \\\n",
       "0          Regular           FDX32  Fruits and Vegetables   \n",
       "1          Low Fat           NCB42     Health and Hygiene   \n",
       "2          Regular           FDR28           Frozen Foods   \n",
       "3          Regular           FDL50                 Canned   \n",
       "4          Low Fat           DRI25            Soft Drinks   \n",
       "\n",
       "   Outlet Establishment Year Outlet Identifier Outlet Location Type  \\\n",
       "0                       2012            OUT049               Tier 1   \n",
       "1                       2022            OUT018               Tier 3   \n",
       "2                       2010            OUT046               Tier 1   \n",
       "3                       2000            OUT013               Tier 3   \n",
       "4                       2015            OUT045               Tier 2   \n",
       "\n",
       "  Outlet Size        Outlet Type  Item Visibility  Item Weight     Sales  \\\n",
       "0      Medium  Supermarket Type1         0.100014        15.10  145.4786   \n",
       "1      Medium  Supermarket Type2         0.008596        11.80  115.3492   \n",
       "2       Small  Supermarket Type1         0.025896        13.85  165.0210   \n",
       "3        High  Supermarket Type1         0.042278        12.15  126.5046   \n",
       "4       Small  Supermarket Type1         0.033970        19.60   55.1614   \n",
       "\n",
       "   Rating  \n",
       "0     5.0  \n",
       "1     5.0  \n",
       "2     5.0  \n",
       "3     5.0  \n",
       "4     5.0  "
      ]
     },
     "execution_count": 100,
     "metadata": {},
     "output_type": "execute_result"
    }
   ],
   "source": [
    "df.head()"
   ]
  },
  {
   "cell_type": "markdown",
   "id": "d725b4ce-6b29-417d-85ca-81ad7d484114",
   "metadata": {},
   "source": [
    "## Exploring the dataset"
   ]
  },
  {
   "cell_type": "code",
   "execution_count": 102,
   "id": "54a89670-675f-474a-84c4-50ba03584b56",
   "metadata": {},
   "outputs": [
    {
     "data": {
      "text/plain": [
       "Item Fat Content              object\n",
       "Item Identifier               object\n",
       "Item Type                     object\n",
       "Outlet Establishment Year      int64\n",
       "Outlet Identifier             object\n",
       "Outlet Location Type          object\n",
       "Outlet Size                   object\n",
       "Outlet Type                   object\n",
       "Item Visibility              float64\n",
       "Item Weight                  float64\n",
       "Sales                        float64\n",
       "Rating                       float64\n",
       "dtype: object"
      ]
     },
     "execution_count": 102,
     "metadata": {},
     "output_type": "execute_result"
    }
   ],
   "source": [
    "df.dtypes"
   ]
  },
  {
   "cell_type": "code",
   "execution_count": 103,
   "id": "9aca8401-735e-4724-a6b0-5836b60fc11e",
   "metadata": {},
   "outputs": [
    {
     "data": {
      "text/plain": [
       "Item Fat Content\n",
       "Low Fat    5089\n",
       "Regular    2889\n",
       "LF          316\n",
       "reg         117\n",
       "low fat     112\n",
       "Name: count, dtype: int64"
      ]
     },
     "execution_count": 103,
     "metadata": {},
     "output_type": "execute_result"
    }
   ],
   "source": [
    "df['Item Fat Content'].value_counts() "
   ]
  },
  {
   "cell_type": "markdown",
   "id": "21bc8969-a0e8-4b59-b2af-b7b4503df474",
   "metadata": {},
   "source": [
    "- Comment: Seems like LF and reg and low fat need to be renamed"
   ]
  },
  {
   "cell_type": "code",
   "execution_count": 105,
   "id": "04668e45-c991-441a-8cdc-50c8e03d8199",
   "metadata": {},
   "outputs": [
    {
     "data": {
      "text/plain": [
       "Item Identifier\n",
       "FDW13    10\n",
       "FDG33    10\n",
       "FDF56     9\n",
       "FDF52     9\n",
       "FDV38     9\n",
       "         ..\n",
       "FDK57     1\n",
       "FDO33     1\n",
       "DRF48     1\n",
       "FDC23     1\n",
       "FDE52     1\n",
       "Name: count, Length: 1559, dtype: int64"
      ]
     },
     "execution_count": 105,
     "metadata": {},
     "output_type": "execute_result"
    }
   ],
   "source": [
    "df['Item Identifier'].value_counts() #There are 1559 types, Is this column relavant to the analysis?"
   ]
  },
  {
   "cell_type": "code",
   "execution_count": 106,
   "id": "b44152e9-1c04-44e4-949f-c1e60230fd1c",
   "metadata": {},
   "outputs": [
    {
     "data": {
      "text/plain": [
       "Item Type\n",
       "Fruits and Vegetables    1232\n",
       "Snack Foods              1200\n",
       "Household                 910\n",
       "Frozen Foods              856\n",
       "Dairy                     682\n",
       "Canned                    649\n",
       "Baking Goods              648\n",
       "Health and Hygiene        520\n",
       "Soft Drinks               445\n",
       "Meat                      425\n",
       "Breads                    251\n",
       "Hard Drinks               214\n",
       "Others                    169\n",
       "Starchy Foods             148\n",
       "Breakfast                 110\n",
       "Seafood                    64\n",
       "Name: count, dtype: int64"
      ]
     },
     "execution_count": 106,
     "metadata": {},
     "output_type": "execute_result"
    }
   ],
   "source": [
    "df['Item Type'].value_counts() #clean, no need to clean it further"
   ]
  },
  {
   "cell_type": "code",
   "execution_count": 107,
   "id": "9e4cd9b8-2cd1-45c6-8221-801eb707c50a",
   "metadata": {},
   "outputs": [
    {
     "data": {
      "text/plain": [
       "Outlet Establishment Year\n",
       "1998    1463\n",
       "2000     932\n",
       "2012     930\n",
       "2010     930\n",
       "2017     930\n",
       "2015     929\n",
       "2022     928\n",
       "2020     926\n",
       "2011     555\n",
       "Name: count, dtype: int64"
      ]
     },
     "execution_count": 107,
     "metadata": {},
     "output_type": "execute_result"
    }
   ],
   "source": [
    "df['Outlet Establishment Year'].value_counts() "
   ]
  },
  {
   "cell_type": "markdown",
   "id": "fe40bc17-f74d-48ce-8aac-c79d820fd011",
   "metadata": {},
   "source": [
    "- Most Establishments were formed in 1998 and there is a good mix of old and new businesses"
   ]
  },
  {
   "cell_type": "code",
   "execution_count": 109,
   "id": "7a38ad28-dee4-4cc2-8e24-7208bb95b598",
   "metadata": {},
   "outputs": [
    {
     "data": {
      "text/plain": [
       "Outlet Identifier\n",
       "OUT027    935\n",
       "OUT013    932\n",
       "OUT049    930\n",
       "OUT046    930\n",
       "OUT035    930\n",
       "OUT045    929\n",
       "OUT018    928\n",
       "OUT017    926\n",
       "OUT010    555\n",
       "OUT019    528\n",
       "Name: count, dtype: int64"
      ]
     },
     "execution_count": 109,
     "metadata": {},
     "output_type": "execute_result"
    }
   ],
   "source": [
    "df['Outlet Identifier'].value_counts() #Not relavant to analysis"
   ]
  },
  {
   "cell_type": "code",
   "execution_count": 111,
   "id": "f8d245bc-9a4e-4016-81ca-94375e262829",
   "metadata": {},
   "outputs": [
    {
     "data": {
      "text/plain": [
       "Outlet Location Type\n",
       "Tier 3    3350\n",
       "Tier 2    2785\n",
       "Tier 1    2388\n",
       "Name: count, dtype: int64"
      ]
     },
     "execution_count": 111,
     "metadata": {},
     "output_type": "execute_result"
    }
   ],
   "source": [
    "df['Outlet Location Type'].value_counts() "
   ]
  },
  {
   "cell_type": "markdown",
   "id": "1cb66fdb-2d5e-4646-9472-e75e3205c0f0",
   "metadata": {},
   "source": [
    "- Many more stores in Tier 3 cities as compared to tier 1 and tier 2"
   ]
  },
  {
   "cell_type": "code",
   "execution_count": 113,
   "id": "5f761bea-5419-44ff-a5f3-8ce217c34ed3",
   "metadata": {},
   "outputs": [
    {
     "data": {
      "text/plain": [
       "Outlet Size\n",
       "Medium    3631\n",
       "Small     3139\n",
       "High      1753\n",
       "Name: count, dtype: int64"
      ]
     },
     "execution_count": 113,
     "metadata": {},
     "output_type": "execute_result"
    }
   ],
   "source": [
    "df['Outlet Size'].value_counts()"
   ]
  },
  {
   "cell_type": "code",
   "execution_count": 114,
   "id": "be94c50b-0eae-4870-9a2a-f21677652cac",
   "metadata": {},
   "outputs": [
    {
     "data": {
      "text/plain": [
       "Outlet Location Type  Outlet Size\n",
       "Tier 1                Medium          930\n",
       "                      Small          1458\n",
       "Tier 2                High            588\n",
       "                      Medium          573\n",
       "                      Small          1624\n",
       "Tier 3                High           1165\n",
       "                      Medium         2128\n",
       "                      Small            57\n",
       "dtype: int64"
      ]
     },
     "execution_count": 114,
     "metadata": {},
     "output_type": "execute_result"
    }
   ],
   "source": [
    "df.groupby(['Outlet Location Type', 'Outlet Size']).size() "
   ]
  },
  {
   "cell_type": "markdown",
   "id": "abd6e4d7-a789-48bb-b9a1-5b9c084b28c0",
   "metadata": {},
   "source": [
    "- Bigger the city, focus on smaller outlets is higher and vice versa"
   ]
  },
  {
   "cell_type": "code",
   "execution_count": 116,
   "id": "8c57348c-9522-484e-a71f-89d65dea1265",
   "metadata": {},
   "outputs": [
    {
     "data": {
      "text/plain": [
       "count    8523.000000\n",
       "mean        0.066132\n",
       "std         0.051598\n",
       "min         0.000000\n",
       "25%         0.026989\n",
       "50%         0.053931\n",
       "75%         0.094585\n",
       "max         0.328391\n",
       "Name: Item Visibility, dtype: float64"
      ]
     },
     "execution_count": 116,
     "metadata": {},
     "output_type": "execute_result"
    }
   ],
   "source": [
    "df['Item Visibility'].describe() "
   ]
  },
  {
   "cell_type": "markdown",
   "id": "ba6b80d6-3ddb-4e1f-869d-520ac91a5b40",
   "metadata": {},
   "source": [
    "- Check what this colum describes"
   ]
  },
  {
   "cell_type": "code",
   "execution_count": 118,
   "id": "ec1c8a56-820c-444c-9ca1-9063ec31685d",
   "metadata": {},
   "outputs": [
    {
     "data": {
      "text/plain": [
       "count    7060.000000\n",
       "mean       12.857645\n",
       "std         4.643456\n",
       "min         4.555000\n",
       "25%         8.773750\n",
       "50%        12.600000\n",
       "75%        16.850000\n",
       "max        21.350000\n",
       "Name: Item Weight, dtype: float64"
      ]
     },
     "execution_count": 118,
     "metadata": {},
     "output_type": "execute_result"
    }
   ],
   "source": [
    "df['Item Weight'].describe() "
   ]
  },
  {
   "cell_type": "markdown",
   "id": "39f83d24-1637-485a-8b61-6c95fde99fb9",
   "metadata": {},
   "source": [
    "- Assuming its in grams. All items are very leightweight"
   ]
  },
  {
   "cell_type": "code",
   "execution_count": 120,
   "id": "5ba84204-aca4-40cb-9562-b39a23e1b5c6",
   "metadata": {},
   "outputs": [
    {
     "data": {
      "text/plain": [
       "count    8523.000000\n",
       "mean      140.992782\n",
       "std        62.275067\n",
       "min        31.290000\n",
       "25%        93.826500\n",
       "50%       143.012800\n",
       "75%       185.643700\n",
       "max       266.888400\n",
       "Name: Sales, dtype: float64"
      ]
     },
     "execution_count": 120,
     "metadata": {},
     "output_type": "execute_result"
    }
   ],
   "source": [
    "df['Sales'].describe() "
   ]
  },
  {
   "cell_type": "markdown",
   "id": "3126efc0-426a-48cd-bc45-c9aab628765c",
   "metadata": {},
   "source": [
    "- Average sales is 140, minimum is 31 and max is 266"
   ]
  },
  {
   "cell_type": "code",
   "execution_count": 122,
   "id": "2eaf9779-6904-453a-a64e-b55892229ba0",
   "metadata": {},
   "outputs": [
    {
     "data": {
      "text/plain": [
       "count    8523.000000\n",
       "mean        3.965857\n",
       "std         0.605651\n",
       "min         1.000000\n",
       "25%         4.000000\n",
       "50%         4.000000\n",
       "75%         4.200000\n",
       "max         5.000000\n",
       "Name: Rating, dtype: float64"
      ]
     },
     "execution_count": 122,
     "metadata": {},
     "output_type": "execute_result"
    }
   ],
   "source": [
    "df['Rating'].describe() "
   ]
  },
  {
   "cell_type": "markdown",
   "id": "3db7efa3-8428-4508-a344-89f974fb02a1",
   "metadata": {},
   "source": [
    "- Mean is close to 4, most customers are satisfied with their orders"
   ]
  },
  {
   "cell_type": "markdown",
   "id": "6a739c01-295d-4d45-a9b9-38e2f6011891",
   "metadata": {},
   "source": [
    "## Data Cleaning"
   ]
  },
  {
   "cell_type": "markdown",
   "id": "b5fef62b-2faf-4235-ac82-bf45be8cbe9c",
   "metadata": {},
   "source": [
    "Step 1: Cleaning Item Fat Content from LF, low fat to 'Low fat' and reg to 'Regular'"
   ]
  },
  {
   "cell_type": "code",
   "execution_count": 155,
   "id": "e5c18d82-83b5-4709-baa6-0677a89d84f6",
   "metadata": {},
   "outputs": [
    {
     "name": "stdout",
     "output_type": "stream",
     "text": [
      "['Regular' 'Low Fat']\n",
      "['Regular' 'Low Fat']\n"
     ]
    }
   ],
   "source": [
    "df['Item Fat Content'] = df['Item Fat Content'].replace({'LF':'Low Fat','low fat':'Low Fat','reg':'Regular'})\n",
    "print(df['Item Fat Content'].unique())"
   ]
  },
  {
   "cell_type": "markdown",
   "id": "d367be4c-4b92-434b-9148-383b0addfbb8",
   "metadata": {},
   "source": [
    "## Data analysis requierments"
   ]
  },
  {
   "cell_type": "code",
   "execution_count": 201,
   "id": "7440747b-e4c7-4388-91b4-c2a572b52d06",
   "metadata": {},
   "outputs": [
    {
     "name": "stdout",
     "output_type": "stream",
     "text": [
      "The total sales is Rs.1,201,681\n",
      "The average sales is Rs.141\n",
      "The number of items is 8523\n",
      "The average rating is 3.97\n"
     ]
    }
   ],
   "source": [
    "# Total Sales: The overall revenue generated from all items sold.\n",
    "Total_sales = df['Sales'].sum()\n",
    "\n",
    "# Average Sales: The average revenue per sale.\n",
    "Average_sales = df['Sales'].mean()\n",
    "\n",
    "# Number of Items: The total count of different items sold\n",
    "Number_of_items = df['Item Identifier'].count()\n",
    "\n",
    "# Average Rating: The average customer rating for items sold\n",
    "Average_rating = df['Rating'].mean()\n",
    "\n",
    "print(f\"The total sales is $.{Total_sales:,.0f}\")\n",
    "print(f\"The average sales is $.{Average_sales:,.0f}\")\n",
    "print(f\"The number of items is {Number_of_items}\")\n",
    "print(f\"The average rating is {round(Average_rating,2)}\")\n",
    "\n"
   ]
  },
  {
   "cell_type": "code",
   "execution_count": 205,
   "id": "f38ccaa1-c2f2-4f01-8db5-4086a75b4848",
   "metadata": {},
   "outputs": [],
   "source": [
    "df.to_csv('Blinkit_powerbi.csv', index=False)"
   ]
  }
 ],
 "metadata": {
  "kernelspec": {
   "display_name": "Python [conda env:base] *",
   "language": "python",
   "name": "conda-base-py"
  },
  "language_info": {
   "codemirror_mode": {
    "name": "ipython",
    "version": 3
   },
   "file_extension": ".py",
   "mimetype": "text/x-python",
   "name": "python",
   "nbconvert_exporter": "python",
   "pygments_lexer": "ipython3",
   "version": "3.12.7"
  }
 },
 "nbformat": 4,
 "nbformat_minor": 5
}
